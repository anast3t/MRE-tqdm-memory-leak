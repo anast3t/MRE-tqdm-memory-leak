{
 "cells": [
  {
   "cell_type": "code",
   "execution_count": null,
   "metadata": {
    "collapsed": true
   },
   "outputs": [],
   "source": [
    "import tqdm, sys\n",
    "print(tqdm.__version__, sys.version, sys.platform)\n",
    "\n",
    "import torch\n",
    "from torch.utils.data import DataLoader\n",
    "\n",
    "import foo"
   ]
  },
  {
   "cell_type": "code",
   "execution_count": null,
   "outputs": [],
   "source": [
    "rnd_dataset = foo.RandomImageDataset()\n",
    "rnd_main_dataloader = DataLoader(\n",
    "    dataset=rnd_dataset,\n",
    "    batch_size=32,\n",
    "    num_workers=0\n",
    ")\n",
    "rnd_workers_dataloader = DataLoader(\n",
    "    dataset=rnd_dataset,\n",
    "    batch_size=32,\n",
    "    num_workers=10\n",
    ")\n",
    "\n",
    "EPOCHS = 10"
   ],
   "metadata": {
    "collapsed": false
   }
  },
  {
   "cell_type": "code",
   "execution_count": null,
   "outputs": [],
   "source": [
    "rnd_features_batch, rnd_labels_batch = next(iter(rnd_main_dataloader)) # check that dataset is image sized\n",
    "rnd_features_batch.shape, rnd_labels_batch.shape"
   ],
   "metadata": {
    "collapsed": false
   }
  },
  {
   "cell_type": "markdown",
   "source": [
    "### Checking that `tqdm.notebook.tqdm` works fine"
   ],
   "metadata": {
    "collapsed": false
   }
  },
  {
   "cell_type": "code",
   "execution_count": null,
   "outputs": [],
   "source": [
    "from tqdm.notebook import tqdm\n",
    "smth = 0\n",
    "print(\"\\n-----------MAIN_NOTEBOOK--------------\")\n",
    "for epoch in tqdm(range(EPOCHS)):\n",
    "    print(f\"Epoch {epoch+1}\\n-------\")\n",
    "    for X_train, y_train in tqdm(rnd_main_dataloader):\n",
    "        smth+=1\n",
    "    print(f\"smth = {smth}\")\n",
    "print(\"\\n-----------WORKERS_NOTEBOOK--------------\")\n",
    "for epoch in tqdm(range(EPOCHS)):\n",
    "    print(f\"Epoch {epoch+1}\\n-------\")\n",
    "    for X_train, y_train in tqdm(rnd_workers_dataloader):\n",
    "        smth+=1\n",
    "    print(f\"smth = {smth}\")"
   ],
   "metadata": {
    "collapsed": false
   }
  },
  {
   "cell_type": "markdown",
   "source": [
    "results:\n",
    "![](./notebook_main_and_workers.png)"
   ],
   "metadata": {
    "collapsed": false
   }
  },
  {
   "cell_type": "markdown",
   "source": [
    "### Checking that dataloader with **0** workers works fine on `tqdm.auto.tqdm`"
   ],
   "metadata": {
    "collapsed": false
   }
  },
  {
   "cell_type": "code",
   "execution_count": null,
   "outputs": [],
   "source": [
    "from tqdm.auto import tqdm\n",
    "smth = 0\n",
    "print(\"\\n-----------MAIN_AUTO--------------\")\n",
    "for epoch in tqdm(range(EPOCHS)):\n",
    "    print(f\"Epoch {epoch+1}\\n-------\")\n",
    "    for X_train, y_train in tqdm(rnd_main_dataloader):\n",
    "        smth+=1\n",
    "    print(f\"smth = {smth}\")"
   ],
   "metadata": {
    "collapsed": false
   }
  },
  {
   "cell_type": "markdown",
   "source": [
    "results:\n",
    "![](./auto_main.png)"
   ],
   "metadata": {
    "collapsed": false
   }
  },
  {
   "cell_type": "markdown",
   "source": [
    "### Checking memory leak of `tqdm.auto.tqdm`"
   ],
   "metadata": {
    "collapsed": false
   }
  },
  {
   "cell_type": "code",
   "execution_count": null,
   "outputs": [],
   "source": [
    "from tqdm.auto import tqdm\n",
    "smth = 0\n",
    "print(\"\\n-----------WORKERS_AUTO--------------\")\n",
    "for epoch in tqdm(range(EPOCHS)):\n",
    "    print(f\"Epoch {epoch+1}\\n-------\")\n",
    "    for X_train, y_train in tqdm(rnd_workers_dataloader):\n",
    "        smth+=1\n",
    "    print(f\"smth = {smth}\")"
   ],
   "metadata": {
    "collapsed": false
   }
  },
  {
   "cell_type": "markdown",
   "source": [
    "Result:\n",
    "![](./auto_workers.png)\n",
    "\n",
    "\n",
    "[WinError 1455] The paging file is too small for this operation to complete.\n",
    "Error loading \"C:\\Python310\\lib\\site-packages\\torch\\lib\\torch_python.dll\" or one of its dependencies.\n",
    "\n",
    "[WinError 1114] Dynamic-link library (DLL) initialization routine failed.\n",
    "Error loading \"C:\\Python310\\lib\\site-packages\\torch\\lib\\nvfuser_codegen.dll\" or one of its dependencies."
   ],
   "metadata": {
    "collapsed": false
   }
  },
  {
   "cell_type": "code",
   "execution_count": null,
   "outputs": [],
   "source": [],
   "metadata": {
    "collapsed": false
   }
  }
 ],
 "metadata": {
  "kernelspec": {
   "display_name": "Python 3",
   "language": "python",
   "name": "python3"
  },
  "language_info": {
   "codemirror_mode": {
    "name": "ipython",
    "version": 2
   },
   "file_extension": ".py",
   "mimetype": "text/x-python",
   "name": "python",
   "nbconvert_exporter": "python",
   "pygments_lexer": "ipython2",
   "version": "2.7.6"
  }
 },
 "nbformat": 4,
 "nbformat_minor": 0
}
